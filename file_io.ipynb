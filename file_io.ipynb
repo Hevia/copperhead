{
 "cells": [
  {
   "cell_type": "code",
   "execution_count": null,
   "metadata": {},
   "outputs": [],
   "source": [
    "# default_exp file_io"
   ]
  },
  {
   "cell_type": "code",
   "execution_count": null,
   "metadata": {},
   "outputs": [],
   "source": [
    "from typing import Iterator\n",
    "import json"
   ]
  },
  {
   "cell_type": "code",
   "execution_count": null,
   "metadata": {},
   "outputs": [],
   "source": [
    "#hide\n",
    "from nbdev.showdoc import *"
   ]
  },
  {
   "cell_type": "code",
   "execution_count": null,
   "metadata": {},
   "outputs": [],
   "source": [
    "class IterFile:\n",
    "    \"\"\" Creates an iterator from a file. \"\"\"\n",
    "    def __init__(self, file_path: str) -> None:\n",
    "        self.file_path = file_path\n",
    "    \n",
    "    def __iter__(self) -> Iterator:\n",
    "        if not isinstance(file_path, str):\n",
    "            raise TypeError(f\"Please make sure file_path is a string!\")\n",
    "\n",
    "        try:\n",
    "            with open(self.file_path) as fp:\n",
    "                for line in fp:\n",
    "                    yield line\n",
    "        except Exception as e:\n",
    "            raise Exception(f\"Error reading file at: {file_path} with exception: {e}\")"
   ]
  },
  {
   "cell_type": "code",
   "execution_count": null,
   "metadata": {},
   "outputs": [],
   "source": [
    "def open_file(file_path: str) -> str:\n",
    "    \"\"\" Opens up a file and loads it into memory as a string. \"\"\"\n",
    "    if not isinstance(file_path, str):\n",
    "        raise TypeError(f\"Please make sure file_path is a string!\")\n",
    "    try:\n",
    "        _file = \"\"\n",
    "        with open(file_path, \"r\") as fp:\n",
    "            _file = fp.read()\n",
    "        return _file\n",
    "    except Exception as e:\n",
    "        raise Exception(f\"Error reading file at: {file_path} with exception: {e}\")"
   ]
  },
  {
   "cell_type": "code",
   "execution_count": null,
   "metadata": {},
   "outputs": [],
   "source": [
    "def load_JSON(file_path) -> dict:\n",
    "    \"\"\" Opens up a file and loads it into memory as a dict. \"\"\"\n",
    "    if not isinstance(file_path, str):\n",
    "        raise TypeError(f\"Please make sure file_path is a string!\")\n",
    "\n",
    "    try:\n",
    "        with open(file_path) as json_data:\n",
    "            data = json.load(json_data)\n",
    "        return data\n",
    "    except Exception as e:\n",
    "        raise Exception(f\"Could not open file located at: {file_path} with exception: {e}\")"
   ]
  },
  {
   "cell_type": "code",
   "execution_count": null,
   "metadata": {},
   "outputs": [],
   "source": [
    "def save_file(data, file_path: str) -> None:\n",
    "    \"\"\" Saves a file to disk. \"\"\"\n",
    "    if not isinstance(file_path, str):\n",
    "        raise TypeError(f\"Please make sure file_path is a string!\")\n",
    "\n",
    "    if data == None:\n",
    "        raise TypeError(f\"Please make sure data is not None!\")\n",
    "    \n",
    "    try:\n",
    "        with open(file_path, \"w+\") as fp:\n",
    "            fp.write(data)\n",
    "    except Exception as e:\n",
    "        raise Exception(f\"Error with trying to save file at: {file_path} with exception: {e}\")"
   ]
  },
  {
   "cell_type": "code",
   "execution_count": null,
   "metadata": {},
   "outputs": [],
   "source": [
    "def save_JSON(data, file_path: str) -> None:\n",
    "    \"\"\" Saves JSON to disk \"\"\"\n",
    "    if not isinstance(file_path, str):\n",
    "        raise TypeError(f\"Please make sure file_path is a string!\")\n",
    "\n",
    "    if data == None:\n",
    "        raise TypeError(f\"Please make sure data is not None!\")\n",
    "    \n",
    "    try:\n",
    "        with open(file_path, \"w+\") as fp:\n",
    "            json.dump(data, fp, indent=4)\n",
    "    except Exception as e:\n",
    "        raise Exception(f\"Error with trying to save file at: {file_path} with exception: {e}\")\n",
    "\n",
    "\n"
   ]
  }
 ],
 "metadata": {
  "language_info": {
   "name": "python"
  },
  "orig_nbformat": 4
 },
 "nbformat": 4,
 "nbformat_minor": 2
}
